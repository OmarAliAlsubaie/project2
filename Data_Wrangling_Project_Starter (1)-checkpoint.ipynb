{
 "cells": [
  {
   "cell_type": "markdown",
   "metadata": {
    "id": "GNIwe5N7s0e_"
   },
   "source": [
    "# Real-world Data Wrangling"
   ]
  },
  {
   "cell_type": "markdown",
   "metadata": {
    "id": "_BG63Tpg8ep_"
   },
   "source": [
    "In this project, you will apply the skills you acquired in the course to gather and wrangle real-world data with two datasets of your choice.\n",
    "\n",
    "You will retrieve and extract the data, assess the data programmatically and visually, accross elements of data quality and structure, and implement a cleaning strategy for the data. You will then store the updated data into your selected database/data store, combine the data, and answer a research question with the datasets.\n",
    "\n",
    "Throughout the process, you are expected to:\n",
    "\n",
    "1. Explain your decisions towards methods used for gathering, assessing, cleaning, storing, and answering the research question\n",
    "2. Write code comments so your code is more readable"
   ]
  },
  {
   "cell_type": "markdown",
   "metadata": {
    "id": "lDYDkH-Zs7Nn"
   },
   "source": [
    "## 1. Gather data\n",
    "\n",
    "In this section, you will extract data using two different data gathering methods and combine the data. Use at least two different types of data-gathering methods."
   ]
  },
  {
   "cell_type": "markdown",
   "metadata": {
    "id": "LbN7z7rcuqpO"
   },
   "source": [
    "### **1.1.** Problem Statement\n",
    "In 2-4 sentences, explain the kind of problem you want to look at and the datasets you will be wrangling for this project."
   ]
  },
  {
   "cell_type": "markdown",
   "metadata": {
    "id": "gi6swhjSYqu2"
   },
   "source": [
    "The association between weather and bicycle rentals is the issue I wish to investigate. For this project, I will manage two datasets: the Capital Bikeshare dataset for bicycle rentals, which offers details about bike rentals such as start time, end time, and rental duration; and the OpenWeatherMap API weather data, which includes elements such as temperature, humidity, and precipitation. I want to learn how the weather affects the demand for bike rentals and find any relationships between weather variables and rental trends by studying these information."
   ]
  },
  {
   "cell_type": "markdown",
   "metadata": {
    "id": "8AQfBAdUypMm"
   },
   "source": [
    "### **1.2.** Gather at least two datasets using two different data gathering methods\n",
    "\n",
    "List of data gathering methods:\n",
    "\n",
    "- Download data manually\n",
    "- Programmatically downloading files\n",
    "- Gather data by accessing APIs\n",
    "- Gather and extract data from HTML files using BeautifulSoup\n",
    "- Extract data from a SQL database\n",
    "\n",
    "Each dataset must have at least two variables, and have greater than 500 data samples within each dataset.\n",
    "\n",
    "For each dataset, briefly describe why you picked the dataset and the gathering method (2-3 full sentences), including the names and significance of the variables in the dataset. Show your work (e.g., if using an API to download the data, please include a snippet of your code). \n",
    "\n",
    "Load the dataset programmtically into this notebook."
   ]
  },
  {
   "cell_type": "markdown",
   "metadata": {
    "id": "7e6gS0wL1KTu"
   },
   "source": [
    "#### **Dataset 1**\n",
    "\n",
    "Type: CSV File\n",
    "\n",
    "Method: Download  data manually from the Capital Bikeshare website (https://www.capitalbikeshare.com/system-data).\n",
    "\n",
    "Variables: The dataset contains information about bike rentals, including the ride ID, rideable type (e.g., classic bike,electric bike), start time, end time, start station name, start station ID, end station name, end station ID, start latitude, start longitude, end latitude, end longitude, and member type (casual or member). These variables provide details about bike rides and are important for analyzing rental patterns and their correlation with weather conditions."
   ]
  },
  {
   "cell_type": "code",
   "execution_count": 331,
   "metadata": {
    "id": "Su8E0uLuYkHU"
   },
   "outputs": [],
   "source": [
    "import pandas as pd\n",
    "\n",
    "# Load the bicycle rental data from the CSV file\n",
    "bicycle_data = pd.read_csv('202306-capitalbikeshare-tripdata.csv')\n",
    "\n"
   ]
  },
  {
   "cell_type": "markdown",
   "metadata": {
    "id": "hoUjq1tPzz7P"
   },
   "source": [
    "#### Dataset 2\n",
    "Weather Data\n",
    "Type: API \n",
    "\n",
    "Method: The data was gathered using the \"API\" method from  https://openweathermap.org/ source.\n",
    "\n",
    "Dataset variables:\n",
    "\n",
    "*  temperature, humidity, wind speed, precipitation"
   ]
  },
  {
   "cell_type": "code",
   "execution_count": 332,
   "metadata": {},
   "outputs": [],
   "source": [
    "import requests\n",
    "\n",
    "api_key = \"6ffd1c1304e0b7b38066eede83041047\"\n",
    "city = \"VIRGINIA\"\n",
    "\n",
    "url = f\"http://api.openweathermap.org/data/2.5/weather?q={city}&appid={api_key}\"\n",
    "\n",
    "response = requests.get(url)\n",
    "weather_data = response.json()\n"
   ]
  },
  {
   "cell_type": "markdown",
   "metadata": {},
   "source": [
    "Optional data storing step: You may save your raw dataset files to the local data store before moving to the next step."
   ]
  },
  {
   "cell_type": "code",
   "execution_count": 333,
   "metadata": {},
   "outputs": [],
   "source": [
    "import json\n",
    "# bicycle rental data.\n",
    "bicycle_data.to_csv('RAW_bicycle_data.csv', index=False)\n",
    "# weather data.\n",
    "with open('RAW_weather_data.json', 'w') as f:\n",
    "    json.dump(weather_data, f)\n"
   ]
  },
  {
   "cell_type": "markdown",
   "metadata": {
    "id": "QwSWIVmotLgV"
   },
   "source": [
    "## 2. Assess data\n",
    "\n",
    "Assess the data according to data quality and tidiness metrics using the report below.\n",
    "\n",
    "List **two** data quality issues and **two** tidiness issues. Assess each data issue visually **and** programmatically, then briefly describe the issue you find.  **Make sure you include justifications for the methods you use for the assessment.**"
   ]
  },
  {
   "cell_type": "markdown",
   "metadata": {
    "id": "adaK2iPNzVu4"
   },
   "source": [
    "### Quality Issue 1:"
   ]
  },
  {
   "cell_type": "code",
   "execution_count": 334,
   "metadata": {},
   "outputs": [],
   "source": [
    "#Display a sample of the bicycle rental data ."
   ]
  },
  {
   "cell_type": "code",
   "execution_count": 335,
   "metadata": {
    "id": "SpW59kh-zl8d"
   },
   "outputs": [
    {
     "data": {
      "text/html": [
       "<div>\n",
       "<style scoped>\n",
       "    .dataframe tbody tr th:only-of-type {\n",
       "        vertical-align: middle;\n",
       "    }\n",
       "\n",
       "    .dataframe tbody tr th {\n",
       "        vertical-align: top;\n",
       "    }\n",
       "\n",
       "    .dataframe thead th {\n",
       "        text-align: right;\n",
       "    }\n",
       "</style>\n",
       "<table border=\"1\" class=\"dataframe\">\n",
       "  <thead>\n",
       "    <tr style=\"text-align: right;\">\n",
       "      <th></th>\n",
       "      <th>ride_id</th>\n",
       "      <th>rideable_type</th>\n",
       "      <th>started_at</th>\n",
       "      <th>ended_at</th>\n",
       "      <th>start_station_name</th>\n",
       "      <th>start_station_id</th>\n",
       "      <th>end_station_name</th>\n",
       "      <th>end_station_id</th>\n",
       "      <th>start_lat</th>\n",
       "      <th>start_lng</th>\n",
       "      <th>end_lat</th>\n",
       "      <th>end_lng</th>\n",
       "      <th>member_casual</th>\n",
       "    </tr>\n",
       "  </thead>\n",
       "  <tbody>\n",
       "    <tr>\n",
       "      <th>0</th>\n",
       "      <td>FE7088887B6327BA</td>\n",
       "      <td>classic_bike</td>\n",
       "      <td>2023-06-28 16:10:03</td>\n",
       "      <td>2023-06-28 16:26:07</td>\n",
       "      <td>20th &amp; O St NW / Dupont South</td>\n",
       "      <td>31234.0</td>\n",
       "      <td>14th &amp; G St NW</td>\n",
       "      <td>31238.0</td>\n",
       "      <td>38.908905</td>\n",
       "      <td>-77.044780</td>\n",
       "      <td>38.898164</td>\n",
       "      <td>-77.031898</td>\n",
       "      <td>member</td>\n",
       "    </tr>\n",
       "    <tr>\n",
       "      <th>1</th>\n",
       "      <td>F6006ED5FC8FD066</td>\n",
       "      <td>classic_bike</td>\n",
       "      <td>2023-06-04 15:01:05</td>\n",
       "      <td>2023-06-04 15:01:22</td>\n",
       "      <td>11th &amp; V St NW</td>\n",
       "      <td>31332.0</td>\n",
       "      <td>11th &amp; V St NW</td>\n",
       "      <td>31332.0</td>\n",
       "      <td>38.918199</td>\n",
       "      <td>-77.027171</td>\n",
       "      <td>38.918199</td>\n",
       "      <td>-77.027171</td>\n",
       "      <td>member</td>\n",
       "    </tr>\n",
       "    <tr>\n",
       "      <th>2</th>\n",
       "      <td>01BC1C121A5AFB60</td>\n",
       "      <td>classic_bike</td>\n",
       "      <td>2023-06-24 16:21:20</td>\n",
       "      <td>2023-06-24 16:24:59</td>\n",
       "      <td>1st &amp; D St SE</td>\n",
       "      <td>31643.0</td>\n",
       "      <td>1st &amp; I St SE</td>\n",
       "      <td>31628.0</td>\n",
       "      <td>38.884916</td>\n",
       "      <td>-77.005965</td>\n",
       "      <td>38.878854</td>\n",
       "      <td>-77.005727</td>\n",
       "      <td>member</td>\n",
       "    </tr>\n",
       "    <tr>\n",
       "      <th>3</th>\n",
       "      <td>4A3C07740E161B08</td>\n",
       "      <td>docked_bike</td>\n",
       "      <td>2023-06-11 17:54:52</td>\n",
       "      <td>2023-06-11 18:11:09</td>\n",
       "      <td>Virginia Square Metro / Monroe St &amp; 9th St N</td>\n",
       "      <td>31024.0</td>\n",
       "      <td>Clarendon Blvd &amp; Pierce St</td>\n",
       "      <td>31016.0</td>\n",
       "      <td>38.882788</td>\n",
       "      <td>-77.103148</td>\n",
       "      <td>38.893438</td>\n",
       "      <td>-77.076389</td>\n",
       "      <td>casual</td>\n",
       "    </tr>\n",
       "    <tr>\n",
       "      <th>4</th>\n",
       "      <td>D73EEBADBFB8DF88</td>\n",
       "      <td>classic_bike</td>\n",
       "      <td>2023-06-14 15:00:56</td>\n",
       "      <td>2023-06-14 15:05:18</td>\n",
       "      <td>17th St &amp; Massachusetts Ave NW</td>\n",
       "      <td>31267.0</td>\n",
       "      <td>11th &amp; O St NW</td>\n",
       "      <td>31286.0</td>\n",
       "      <td>38.908142</td>\n",
       "      <td>-77.038359</td>\n",
       "      <td>38.908431</td>\n",
       "      <td>-77.027088</td>\n",
       "      <td>member</td>\n",
       "    </tr>\n",
       "  </tbody>\n",
       "</table>\n",
       "</div>"
      ],
      "text/plain": [
       "            ride_id rideable_type           started_at             ended_at  \\\n",
       "0  FE7088887B6327BA  classic_bike  2023-06-28 16:10:03  2023-06-28 16:26:07   \n",
       "1  F6006ED5FC8FD066  classic_bike  2023-06-04 15:01:05  2023-06-04 15:01:22   \n",
       "2  01BC1C121A5AFB60  classic_bike  2023-06-24 16:21:20  2023-06-24 16:24:59   \n",
       "3  4A3C07740E161B08   docked_bike  2023-06-11 17:54:52  2023-06-11 18:11:09   \n",
       "4  D73EEBADBFB8DF88  classic_bike  2023-06-14 15:00:56  2023-06-14 15:05:18   \n",
       "\n",
       "                             start_station_name  start_station_id  \\\n",
       "0                 20th & O St NW / Dupont South           31234.0   \n",
       "1                                11th & V St NW           31332.0   \n",
       "2                                 1st & D St SE           31643.0   \n",
       "3  Virginia Square Metro / Monroe St & 9th St N           31024.0   \n",
       "4                17th St & Massachusetts Ave NW           31267.0   \n",
       "\n",
       "             end_station_name  end_station_id  start_lat  start_lng  \\\n",
       "0              14th & G St NW         31238.0  38.908905 -77.044780   \n",
       "1              11th & V St NW         31332.0  38.918199 -77.027171   \n",
       "2               1st & I St SE         31628.0  38.884916 -77.005965   \n",
       "3  Clarendon Blvd & Pierce St         31016.0  38.882788 -77.103148   \n",
       "4              11th & O St NW         31286.0  38.908142 -77.038359   \n",
       "\n",
       "     end_lat    end_lng member_casual  \n",
       "0  38.898164 -77.031898        member  \n",
       "1  38.918199 -77.027171        member  \n",
       "2  38.878854 -77.005727        member  \n",
       "3  38.893438 -77.076389        casual  \n",
       "4  38.908431 -77.027088        member  "
      ]
     },
     "execution_count": 335,
     "metadata": {},
     "output_type": "execute_result"
    }
   ],
   "source": [
    "bicycle_data.head()"
   ]
  },
  {
   "cell_type": "code",
   "execution_count": 336,
   "metadata": {
    "id": "-qfcocStzsKg"
   },
   "outputs": [],
   "source": [
    "#Check the data types and non-null values in the bicycle rental data ."
   ]
  },
  {
   "cell_type": "code",
   "execution_count": 337,
   "metadata": {},
   "outputs": [
    {
     "name": "stdout",
     "output_type": "stream",
     "text": [
      "<class 'pandas.core.frame.DataFrame'>\n",
      "RangeIndex: 430670 entries, 0 to 430669\n",
      "Data columns (total 13 columns):\n",
      " #   Column              Non-Null Count   Dtype  \n",
      "---  ------              --------------   -----  \n",
      " 0   ride_id             430670 non-null  object \n",
      " 1   rideable_type       430670 non-null  object \n",
      " 2   started_at          430670 non-null  object \n",
      " 3   ended_at            430670 non-null  object \n",
      " 4   start_station_name  394665 non-null  object \n",
      " 5   start_station_id    394665 non-null  float64\n",
      " 6   end_station_name    392411 non-null  object \n",
      " 7   end_station_id      392411 non-null  float64\n",
      " 8   start_lat           430670 non-null  float64\n",
      " 9   start_lng           430670 non-null  float64\n",
      " 10  end_lat             429980 non-null  float64\n",
      " 11  end_lng             429980 non-null  float64\n",
      " 12  member_casual       430670 non-null  object \n",
      "dtypes: float64(6), object(7)\n",
      "memory usage: 42.7+ MB\n"
     ]
    }
   ],
   "source": [
    "bicycle_data.info()"
   ]
  },
  {
   "cell_type": "markdown",
   "metadata": {},
   "source": [
    "Issue and justification: *FILL IN*"
   ]
  },
  {
   "cell_type": "markdown",
   "metadata": {
    "id": "8Be77N4I1AmE"
   },
   "source": [
    "### Quality Issue 2:"
   ]
  },
  {
   "cell_type": "code",
   "execution_count": 340,
   "metadata": {},
   "outputs": [],
   "source": [
    "#Display a sample of the weather data."
   ]
  },
  {
   "cell_type": "code",
   "execution_count": 341,
   "metadata": {
    "id": "iMhHyiyLM2I3"
   },
   "outputs": [
    {
     "data": {
      "text/plain": [
       "{'coord': {'lon': -77.4467, 'lat': 37.5481},\n",
       " 'weather': [{'id': 803,\n",
       "   'main': 'Clouds',\n",
       "   'description': 'broken clouds',\n",
       "   'icon': '04d'}],\n",
       " 'base': 'stations',\n",
       " 'main': {'temp': 303,\n",
       "  'feels_like': 307.83,\n",
       "  'temp_min': 300.94,\n",
       "  'temp_max': 304.49,\n",
       "  'pressure': 1014,\n",
       "  'humidity': 70},\n",
       " 'visibility': 10000,\n",
       " 'wind': {'speed': 6.69, 'deg': 200},\n",
       " 'clouds': {'all': 75},\n",
       " 'dt': 1689356038,\n",
       " 'sys': {'type': 2,\n",
       "  'id': 2042621,\n",
       "  'country': 'US',\n",
       "  'sunrise': 1689328766,\n",
       "  'sunset': 1689381083},\n",
       " 'timezone': -14400,\n",
       " 'id': 6254928,\n",
       " 'name': 'Virginia',\n",
       " 'cod': 200}"
      ]
     },
     "execution_count": 341,
     "metadata": {},
     "output_type": "execute_result"
    }
   ],
   "source": [
    "weather_data"
   ]
  },
  {
   "cell_type": "code",
   "execution_count": 342,
   "metadata": {
    "id": "bnviRCUI-bb7"
   },
   "outputs": [
    {
     "name": "stdout",
     "output_type": "stream",
     "text": [
      "{'coord': {'lon': -77.4467, 'lat': 37.5481}, 'weather': [{'id': 803, 'main': 'Clouds', 'description': 'broken clouds', 'icon': '04d'}], 'base': 'stations', 'main': {'temp': 303, 'feels_like': 307.83, 'temp_min': 300.94, 'temp_max': 304.49, 'pressure': 1014, 'humidity': 70}, 'visibility': 10000, 'wind': {'speed': 6.69, 'deg': 200}, 'clouds': {'all': 75}, 'dt': 1689356038, 'sys': {'type': 2, 'id': 2042621, 'country': 'US', 'sunrise': 1689328766, 'sunset': 1689381083}, 'timezone': -14400, 'id': 6254928, 'name': 'Virginia', 'cod': 200}\n"
     ]
    }
   ],
   "source": [
    "print(weather_data)\n"
   ]
  },
  {
   "cell_type": "code",
   "execution_count": 343,
   "metadata": {},
   "outputs": [
    {
     "name": "stdout",
     "output_type": "stream",
     "text": [
      "303\n"
     ]
    }
   ],
   "source": [
    "temperature = weather_data['main']['temp']\n",
    "print(temperature)\n"
   ]
  },
  {
   "cell_type": "code",
   "execution_count": 344,
   "metadata": {},
   "outputs": [],
   "source": [
    "#Check the data types and non-null values in the weather data ."
   ]
  },
  {
   "cell_type": "code",
   "execution_count": 345,
   "metadata": {},
   "outputs": [
    {
     "name": "stdout",
     "output_type": "stream",
     "text": [
      "Key: coord\n",
      "Data Type: <class 'dict'>\n",
      "Non-null Values: True\n",
      "------------------------\n",
      "Key: weather\n",
      "Data Type: <class 'list'>\n",
      "Non-null Values: True\n",
      "------------------------\n",
      "Key: base\n",
      "Data Type: <class 'str'>\n",
      "Non-null Values: True\n",
      "------------------------\n",
      "Key: main\n",
      "Data Type: <class 'dict'>\n",
      "Non-null Values: True\n",
      "------------------------\n",
      "Key: visibility\n",
      "Data Type: <class 'int'>\n",
      "Non-null Values: True\n",
      "------------------------\n",
      "Key: wind\n",
      "Data Type: <class 'dict'>\n",
      "Non-null Values: True\n",
      "------------------------\n",
      "Key: clouds\n",
      "Data Type: <class 'dict'>\n",
      "Non-null Values: True\n",
      "------------------------\n",
      "Key: dt\n",
      "Data Type: <class 'int'>\n",
      "Non-null Values: True\n",
      "------------------------\n",
      "Key: sys\n",
      "Data Type: <class 'dict'>\n",
      "Non-null Values: True\n",
      "------------------------\n",
      "Key: timezone\n",
      "Data Type: <class 'int'>\n",
      "Non-null Values: True\n",
      "------------------------\n",
      "Key: id\n",
      "Data Type: <class 'int'>\n",
      "Non-null Values: True\n",
      "------------------------\n",
      "Key: name\n",
      "Data Type: <class 'str'>\n",
      "Non-null Values: True\n",
      "------------------------\n",
      "Key: cod\n",
      "Data Type: <class 'int'>\n",
      "Non-null Values: True\n",
      "------------------------\n"
     ]
    }
   ],
   "source": [
    "for key in weather_data.keys():\n",
    "    print(f\"Key: {key}\")\n",
    "    print(f\"Data Type: {type(weather_data[key])}\")\n",
    "    print(f\"Non-null Values: {weather_data[key] is not None}\")\n",
    "    print(\"------------------------\")\n"
   ]
  },
  {
   "cell_type": "markdown",
   "metadata": {},
   "source": [
    "Issue and justification: missing rationale and description of the data quality problem.\n",
    "\n",
    "Justification: We can spot any discrepancies, missing values, or data type inconsistencies that impair the quality of the data by looking at a sample of the weather data (print(weather_data)) and iterating over its keys to check the data types and non-null values."
   ]
  },
  {
   "cell_type": "markdown",
   "metadata": {
    "id": "lXhGiYyiwwKN"
   },
   "source": [
    "### Tidiness Issue 1:"
   ]
  },
  {
   "cell_type": "code",
   "execution_count": 346,
   "metadata": {},
   "outputs": [],
   "source": [
    "#Display sample of the bicycle rental data."
   ]
  },
  {
   "cell_type": "code",
   "execution_count": 347,
   "metadata": {
    "id": "fleC5rORI0Xl"
   },
   "outputs": [
    {
     "data": {
      "text/html": [
       "<div>\n",
       "<style scoped>\n",
       "    .dataframe tbody tr th:only-of-type {\n",
       "        vertical-align: middle;\n",
       "    }\n",
       "\n",
       "    .dataframe tbody tr th {\n",
       "        vertical-align: top;\n",
       "    }\n",
       "\n",
       "    .dataframe thead th {\n",
       "        text-align: right;\n",
       "    }\n",
       "</style>\n",
       "<table border=\"1\" class=\"dataframe\">\n",
       "  <thead>\n",
       "    <tr style=\"text-align: right;\">\n",
       "      <th></th>\n",
       "      <th>ride_id</th>\n",
       "      <th>rideable_type</th>\n",
       "      <th>started_at</th>\n",
       "      <th>ended_at</th>\n",
       "      <th>start_station_name</th>\n",
       "      <th>start_station_id</th>\n",
       "      <th>end_station_name</th>\n",
       "      <th>end_station_id</th>\n",
       "      <th>start_lat</th>\n",
       "      <th>start_lng</th>\n",
       "      <th>end_lat</th>\n",
       "      <th>end_lng</th>\n",
       "      <th>member_casual</th>\n",
       "    </tr>\n",
       "  </thead>\n",
       "  <tbody>\n",
       "    <tr>\n",
       "      <th>0</th>\n",
       "      <td>FE7088887B6327BA</td>\n",
       "      <td>classic_bike</td>\n",
       "      <td>2023-06-28 16:10:03</td>\n",
       "      <td>2023-06-28 16:26:07</td>\n",
       "      <td>20th &amp; O St NW / Dupont South</td>\n",
       "      <td>31234.0</td>\n",
       "      <td>14th &amp; G St NW</td>\n",
       "      <td>31238.0</td>\n",
       "      <td>38.908905</td>\n",
       "      <td>-77.044780</td>\n",
       "      <td>38.898164</td>\n",
       "      <td>-77.031898</td>\n",
       "      <td>member</td>\n",
       "    </tr>\n",
       "    <tr>\n",
       "      <th>1</th>\n",
       "      <td>F6006ED5FC8FD066</td>\n",
       "      <td>classic_bike</td>\n",
       "      <td>2023-06-04 15:01:05</td>\n",
       "      <td>2023-06-04 15:01:22</td>\n",
       "      <td>11th &amp; V St NW</td>\n",
       "      <td>31332.0</td>\n",
       "      <td>11th &amp; V St NW</td>\n",
       "      <td>31332.0</td>\n",
       "      <td>38.918199</td>\n",
       "      <td>-77.027171</td>\n",
       "      <td>38.918199</td>\n",
       "      <td>-77.027171</td>\n",
       "      <td>member</td>\n",
       "    </tr>\n",
       "    <tr>\n",
       "      <th>2</th>\n",
       "      <td>01BC1C121A5AFB60</td>\n",
       "      <td>classic_bike</td>\n",
       "      <td>2023-06-24 16:21:20</td>\n",
       "      <td>2023-06-24 16:24:59</td>\n",
       "      <td>1st &amp; D St SE</td>\n",
       "      <td>31643.0</td>\n",
       "      <td>1st &amp; I St SE</td>\n",
       "      <td>31628.0</td>\n",
       "      <td>38.884916</td>\n",
       "      <td>-77.005965</td>\n",
       "      <td>38.878854</td>\n",
       "      <td>-77.005727</td>\n",
       "      <td>member</td>\n",
       "    </tr>\n",
       "    <tr>\n",
       "      <th>3</th>\n",
       "      <td>4A3C07740E161B08</td>\n",
       "      <td>docked_bike</td>\n",
       "      <td>2023-06-11 17:54:52</td>\n",
       "      <td>2023-06-11 18:11:09</td>\n",
       "      <td>Virginia Square Metro / Monroe St &amp; 9th St N</td>\n",
       "      <td>31024.0</td>\n",
       "      <td>Clarendon Blvd &amp; Pierce St</td>\n",
       "      <td>31016.0</td>\n",
       "      <td>38.882788</td>\n",
       "      <td>-77.103148</td>\n",
       "      <td>38.893438</td>\n",
       "      <td>-77.076389</td>\n",
       "      <td>casual</td>\n",
       "    </tr>\n",
       "    <tr>\n",
       "      <th>4</th>\n",
       "      <td>D73EEBADBFB8DF88</td>\n",
       "      <td>classic_bike</td>\n",
       "      <td>2023-06-14 15:00:56</td>\n",
       "      <td>2023-06-14 15:05:18</td>\n",
       "      <td>17th St &amp; Massachusetts Ave NW</td>\n",
       "      <td>31267.0</td>\n",
       "      <td>11th &amp; O St NW</td>\n",
       "      <td>31286.0</td>\n",
       "      <td>38.908142</td>\n",
       "      <td>-77.038359</td>\n",
       "      <td>38.908431</td>\n",
       "      <td>-77.027088</td>\n",
       "      <td>member</td>\n",
       "    </tr>\n",
       "  </tbody>\n",
       "</table>\n",
       "</div>"
      ],
      "text/plain": [
       "            ride_id rideable_type           started_at             ended_at  \\\n",
       "0  FE7088887B6327BA  classic_bike  2023-06-28 16:10:03  2023-06-28 16:26:07   \n",
       "1  F6006ED5FC8FD066  classic_bike  2023-06-04 15:01:05  2023-06-04 15:01:22   \n",
       "2  01BC1C121A5AFB60  classic_bike  2023-06-24 16:21:20  2023-06-24 16:24:59   \n",
       "3  4A3C07740E161B08   docked_bike  2023-06-11 17:54:52  2023-06-11 18:11:09   \n",
       "4  D73EEBADBFB8DF88  classic_bike  2023-06-14 15:00:56  2023-06-14 15:05:18   \n",
       "\n",
       "                             start_station_name  start_station_id  \\\n",
       "0                 20th & O St NW / Dupont South           31234.0   \n",
       "1                                11th & V St NW           31332.0   \n",
       "2                                 1st & D St SE           31643.0   \n",
       "3  Virginia Square Metro / Monroe St & 9th St N           31024.0   \n",
       "4                17th St & Massachusetts Ave NW           31267.0   \n",
       "\n",
       "             end_station_name  end_station_id  start_lat  start_lng  \\\n",
       "0              14th & G St NW         31238.0  38.908905 -77.044780   \n",
       "1              11th & V St NW         31332.0  38.918199 -77.027171   \n",
       "2               1st & I St SE         31628.0  38.884916 -77.005965   \n",
       "3  Clarendon Blvd & Pierce St         31016.0  38.882788 -77.103148   \n",
       "4              11th & O St NW         31286.0  38.908142 -77.038359   \n",
       "\n",
       "     end_lat    end_lng member_casual  \n",
       "0  38.898164 -77.031898        member  \n",
       "1  38.918199 -77.027171        member  \n",
       "2  38.878854 -77.005727        member  \n",
       "3  38.893438 -77.076389        casual  \n",
       "4  38.908431 -77.027088        member  "
      ]
     },
     "execution_count": 347,
     "metadata": {},
     "output_type": "execute_result"
    }
   ],
   "source": [
    "bicycle_data.head()"
   ]
  },
  {
   "cell_type": "code",
   "execution_count": 348,
   "metadata": {},
   "outputs": [],
   "source": [
    "#Check data shape of the bicycle rental data."
   ]
  },
  {
   "cell_type": "code",
   "execution_count": 349,
   "metadata": {
    "id": "BTuQw7Rbsio4"
   },
   "outputs": [
    {
     "data": {
      "text/plain": [
       "(430670, 13)"
      ]
     },
     "execution_count": 349,
     "metadata": {},
     "output_type": "execute_result"
    }
   ],
   "source": [
    "bicycle_data.shape"
   ]
  },
  {
   "cell_type": "markdown",
   "metadata": {},
   "source": [
    "Issue and justification: We can make sure that the data is correctly formatted and arranged in a tidy fashion by looking at a sample of the bicycle rental data (bicycle_data.head()) and determining its shape (bicycle_data.shape)."
   ]
  },
  {
   "cell_type": "markdown",
   "metadata": {
    "id": "4ffMoRGSwzYj"
   },
   "source": [
    "### Tidiness Issue 2: "
   ]
  },
  {
   "cell_type": "code",
   "execution_count": 350,
   "metadata": {},
   "outputs": [],
   "source": [
    "#Display sample of the weather data"
   ]
  },
  {
   "cell_type": "code",
   "execution_count": 351,
   "metadata": {
    "id": "XUpeoqokw5Qt"
   },
   "outputs": [
    {
     "data": {
      "text/plain": [
       "{'coord': {'lon': -77.4467, 'lat': 37.5481},\n",
       " 'weather': [{'id': 803,\n",
       "   'main': 'Clouds',\n",
       "   'description': 'broken clouds',\n",
       "   'icon': '04d'}],\n",
       " 'base': 'stations',\n",
       " 'main': {'temp': 303,\n",
       "  'feels_like': 307.83,\n",
       "  'temp_min': 300.94,\n",
       "  'temp_max': 304.49,\n",
       "  'pressure': 1014,\n",
       "  'humidity': 70},\n",
       " 'visibility': 10000,\n",
       " 'wind': {'speed': 6.69, 'deg': 200},\n",
       " 'clouds': {'all': 75},\n",
       " 'dt': 1689356038,\n",
       " 'sys': {'type': 2,\n",
       "  'id': 2042621,\n",
       "  'country': 'US',\n",
       "  'sunrise': 1689328766,\n",
       "  'sunset': 1689381083},\n",
       " 'timezone': -14400,\n",
       " 'id': 6254928,\n",
       " 'name': 'Virginia',\n",
       " 'cod': 200}"
      ]
     },
     "execution_count": 351,
     "metadata": {},
     "output_type": "execute_result"
    }
   ],
   "source": [
    "weather_data"
   ]
  },
  {
   "cell_type": "code",
   "execution_count": 352,
   "metadata": {},
   "outputs": [],
   "source": [
    "# Check data shape of the weather data"
   ]
  },
  {
   "cell_type": "code",
   "execution_count": 353,
   "metadata": {
    "id": "c8JK4DoXxtFA"
   },
   "outputs": [
    {
     "name": "stdout",
     "output_type": "stream",
     "text": [
      "13\n"
     ]
    }
   ],
   "source": [
    "print(len(weather_data))\n"
   ]
  },
  {
   "cell_type": "markdown",
   "metadata": {},
   "source": [
    "Issue and justification: Incomplete exposition and justification of the tidyness issue.\n",
    "\n",
    "Justification: We can check that the weather data is appropriately formatted and arranged in a neat fashion by looking at a sample of the weather data (print(weather_data)) and using the len() method to check the number of entries in the weather_data dictionary."
   ]
  },
  {
   "cell_type": "markdown",
   "metadata": {
    "id": "D6gmLnBttpCh"
   },
   "source": [
    "## 3. Clean data\n",
    "Clean the data to solve the 4 issues corresponding to data quality and tidiness found in the assessing step. **Make sure you include justifications for your cleaning decisions.**\n",
    "\n",
    "After the cleaning for each issue, please use **either** the visually or programatical method to validate the cleaning was succesful.\n",
    "\n",
    "At this stage, you are also expected to remove variables that are unnecessary for your analysis and combine your datasets. Depending on your datasets, you may choose to perform variable combination and elimination before or after the cleaning stage. Your dataset must have **at least** 4 variables after combining the data."
   ]
  },
  {
   "cell_type": "code",
   "execution_count": 354,
   "metadata": {},
   "outputs": [],
   "source": [
    "#Make copies of the datasets to ensure the raw dataframes "
   ]
  },
  {
   "cell_type": "code",
   "execution_count": 355,
   "metadata": {},
   "outputs": [],
   "source": [
    "bicycle_data_cleaned = bicycle_data.copy()\n",
    "weather_data_cleaned = weather_data.copy()"
   ]
  },
  {
   "cell_type": "markdown",
   "metadata": {
    "id": "FmFhN52Yyn3l"
   },
   "source": [
    "### **Quality Issue 1: FILL IN**"
   ]
  },
  {
   "cell_type": "code",
   "execution_count": 356,
   "metadata": {
    "id": "9UejDWrNMW4a"
   },
   "outputs": [],
   "source": [
    "bicycle_data_cleaned.dropna(subset=['ride_id', 'started_at', 'ended_at', 'start_station_name', 'end_station_name'], inplace=True)"
   ]
  },
  {
   "cell_type": "code",
   "execution_count": 357,
   "metadata": {
    "id": "oUBee-LPytkv"
   },
   "outputs": [
    {
     "name": "stdout",
     "output_type": "stream",
     "text": [
      "<class 'pandas.core.frame.DataFrame'>\n",
      "Int64Index: 377553 entries, 0 to 430669\n",
      "Data columns (total 13 columns):\n",
      " #   Column              Non-Null Count   Dtype  \n",
      "---  ------              --------------   -----  \n",
      " 0   ride_id             377553 non-null  object \n",
      " 1   rideable_type       377553 non-null  object \n",
      " 2   started_at          377553 non-null  object \n",
      " 3   ended_at            377553 non-null  object \n",
      " 4   start_station_name  377553 non-null  object \n",
      " 5   start_station_id    377553 non-null  float64\n",
      " 6   end_station_name    377553 non-null  object \n",
      " 7   end_station_id      377553 non-null  float64\n",
      " 8   start_lat           377553 non-null  float64\n",
      " 9   start_lng           377553 non-null  float64\n",
      " 10  end_lat             377553 non-null  float64\n",
      " 11  end_lng             377553 non-null  float64\n",
      " 12  member_casual       377553 non-null  object \n",
      "dtypes: float64(6), object(7)\n",
      "memory usage: 40.3+ MB\n"
     ]
    }
   ],
   "source": [
    "bicycle_data_cleaned.info()\n"
   ]
  },
  {
   "cell_type": "markdown",
   "metadata": {},
   "source": [
    "Justification: Analysis errors might result from missing data in crucial columns. We assure the accuracy of the data and maintain the consistency of the variables that are essential for studying rental patterns and their relationship to weather conditions by removing rows with missing values in the critical columns."
   ]
  },
  {
   "cell_type": "markdown",
   "metadata": {
    "id": "n_DAUbJrymBL"
   },
   "source": [
    "### **Quality Issue 2: FILL IN**"
   ]
  },
  {
   "cell_type": "code",
   "execution_count": 358,
   "metadata": {
    "id": "5Yfb-Yu5MTuE"
   },
   "outputs": [],
   "source": [
    "bicycle_data_cleaned['started_at'] = pd.to_datetime(bicycle_data_cleaned['started_at'])\n",
    "bicycle_data_cleaned['ended_at'] = pd.to_datetime(bicycle_data_cleaned['ended_at'])\n"
   ]
  },
  {
   "cell_type": "code",
   "execution_count": 359,
   "metadata": {
    "id": "ionB2sRaMUmY"
   },
   "outputs": [
    {
     "name": "stdout",
     "output_type": "stream",
     "text": [
      "datetime64[ns]\n",
      "datetime64[ns]\n"
     ]
    }
   ],
   "source": [
    "print(bicycle_data_cleaned['started_at'].dtypes)\n",
    "print(bicycle_data_cleaned['ended_at'].dtypes)\n"
   ]
  },
  {
   "cell_type": "markdown",
   "metadata": {},
   "source": [
    "Justification: It's crucial to have a consistent format when performing calculations and analyses that use date and time. We make sure that the dates and times can be properly evaluated by converting the \"started_at\" and \"ended_at\" columns to datetime format."
   ]
  },
  {
   "cell_type": "markdown",
   "metadata": {
    "id": "bIUrrfSNyOPR"
   },
   "source": [
    "### **Tidiness Issue 1: FILL IN**"
   ]
  },
  {
   "cell_type": "code",
   "execution_count": 360,
   "metadata": {
    "id": "fib0zAm333bn"
   },
   "outputs": [],
   "source": [
    "bicycle_data_cleaned['duration'] = (bicycle_data_cleaned['ended_at'] - bicycle_data_cleaned['started_at']).dt.total_seconds() / 60\n"
   ]
  },
  {
   "cell_type": "code",
   "execution_count": 361,
   "metadata": {
    "id": "yhrnUGY_Nk8B"
   },
   "outputs": [
    {
     "name": "stdout",
     "output_type": "stream",
     "text": [
      "0    16.066667\n",
      "1     0.283333\n",
      "2     3.650000\n",
      "3    16.283333\n",
      "4     4.366667\n",
      "Name: duration, dtype: float64\n"
     ]
    }
   ],
   "source": [
    "print(bicycle_data_cleaned['duration'].head())\n"
   ]
  },
  {
   "cell_type": "markdown",
   "metadata": {},
   "source": [
    "Justification: For the purpose of assessing rental patterns and their relationship to weather conditions, adding a \"duration\" column offers useful information on the rental period. The dataset becomes more helpful and complete as a result."
   ]
  },
  {
   "cell_type": "markdown",
   "metadata": {
    "id": "o51Bt8kwyTzk"
   },
   "source": [
    "### **Tidiness Issue 2: FILL IN**"
   ]
  },
  {
   "cell_type": "code",
   "execution_count": 362,
   "metadata": {},
   "outputs": [
    {
     "name": "stdout",
     "output_type": "stream",
     "text": [
      "Index(['ride_id', 'rideable_type', 'started_at', 'ended_at',\n",
      "       'start_station_name', 'start_station_id', 'end_station_name',\n",
      "       'end_station_id', 'start_lat', 'start_lng', 'end_lat', 'end_lng',\n",
      "       'member_casual', 'duration'],\n",
      "      dtype='object')\n"
     ]
    }
   ],
   "source": [
    "print(bicycle_data_cleaned.columns)\n"
   ]
  },
  {
   "cell_type": "code",
   "execution_count": 363,
   "metadata": {},
   "outputs": [],
   "source": [
    "bicycle_data_cleaned = bicycle_data_cleaned.drop(['rideable_type', 'start_station_id'], axis=1)\n"
   ]
  },
  {
   "cell_type": "code",
   "execution_count": 364,
   "metadata": {
    "id": "q6I_Sr7lxXi5"
   },
   "outputs": [
    {
     "name": "stdout",
     "output_type": "stream",
     "text": [
      "Index(['ride_id', 'started_at', 'ended_at', 'start_station_name',\n",
      "       'end_station_name', 'end_station_id', 'start_lat', 'start_lng',\n",
      "       'end_lat', 'end_lng', 'member_casual', 'duration'],\n",
      "      dtype='object')\n"
     ]
    }
   ],
   "source": [
    "print(bicycle_data_cleaned.columns)"
   ]
  },
  {
   "cell_type": "markdown",
   "metadata": {},
   "source": [
    "Justification:removing the unnecessary columns from the bicycle_data_cleaned dataset,we  ensure that we are focusing only on the relevant variables for our analysis. This helps to simplify the dataset and reduce redundancy."
   ]
  },
  {
   "cell_type": "markdown",
   "metadata": {},
   "source": [
    "### **Remove unnecessary variables and combine datasets**\n",
    "\n",
    "Depending on the datasets, you can also peform the combination before the cleaning steps."
   ]
  },
  {
   "cell_type": "code",
   "execution_count": 365,
   "metadata": {},
   "outputs": [
    {
     "data": {
      "text/plain": [
       "Index(['ride_id', 'started_at', 'ended_at', 'start_station_name',\n",
       "       'end_station_name', 'end_station_id', 'start_lat', 'start_lng',\n",
       "       'end_lat', 'end_lng', 'member_casual', 'duration'],\n",
       "      dtype='object')"
      ]
     },
     "execution_count": 365,
     "metadata": {},
     "output_type": "execute_result"
    }
   ],
   "source": [
    "bicycle_data_cleaned.columns"
   ]
  },
  {
   "cell_type": "code",
   "execution_count": 366,
   "metadata": {},
   "outputs": [
    {
     "name": "stdout",
     "output_type": "stream",
     "text": [
      "Index(['ride_id', 'started_at', 'ended_at', 'start_station_name',\n",
      "       'end_station_name', 'end_station_id', 'start_lat', 'start_lng',\n",
      "       'end_lat', 'end_lng', 'member_casual', 'duration'],\n",
      "      dtype='object')\n",
      "Index(['coord', 'weather', 'base', 'main', 'visibility', 'wind', 'clouds',\n",
      "       'dt', 'sys', 'timezone', 'id', 'name', 'cod'],\n",
      "      dtype='object')\n"
     ]
    }
   ],
   "source": [
    "print(bicycle_data_cleaned.columns)\n",
    "print(weather_data_df.columns)\n",
    "\n"
   ]
  },
  {
   "cell_type": "markdown",
   "metadata": {
    "id": "F42urHuzttjF"
   },
   "source": [
    "## 4. Update your data store\n",
    "Update your local database/data store with the cleaned data, following best practices for storing your cleaned data:\n",
    "\n",
    "- Must maintain different instances / versions of data (raw and cleaned data)\n",
    "- Must name the dataset files informatively\n",
    "- Ensure both the raw and cleaned data is saved to your database/data store"
   ]
  },
  {
   "cell_type": "code",
   "execution_count": 367,
   "metadata": {
    "id": "V3uay7EJUV_L"
   },
   "outputs": [],
   "source": [
    "# Save raw bicycle rental data.\n",
    "bicycle_data.to_csv('RAW_bicycle_data.csv', index=False)\n",
    "#Save the cleaned bicycle rental data.\n",
    "bicycle_data_cleaned.to_csv('Cleaned_bicycle_data.csv', index=False)\n"
   ]
  },
  {
   "cell_type": "markdown",
   "metadata": {
    "id": "cGy_yddGtzhM"
   },
   "source": [
    "## 5. Answer the research question\n",
    "\n",
    "### **5.1:** Define and answer the research question \n",
    "Going back to the problem statement in step 1, use the cleaned data to answer the question you raised. Produce **at least** two visualizations using the cleaned data and explain how they help you answer the question."
   ]
  },
  {
   "cell_type": "markdown",
   "metadata": {
    "id": "gjedE4s4ZkEd"
   },
   "source": [
    "Research question:What is the relationship between the duration of bike rides and the type of user (member or casual)  bike rides and the kind of user—a member or a casual—of the Washington, DC, bike rental system?"
   ]
  },
  {
   "cell_type": "code",
   "execution_count": 368,
   "metadata": {},
   "outputs": [],
   "source": [
    " #Box plot comparing the duration of bike rides for member and casual users\n",
    "    #We can make a box plot that compares the length of bike rides for member and casual users in order to respond to the research question. \n",
    "   # The distribution of ride durations for each user type is shown graphically in the box plot. \n",
    "   # It enables us to determine whether there are any appreciable differences in the length of rides between members and non-members."
   ]
  },
  {
   "cell_type": "code",
   "execution_count": 319,
   "metadata": {
    "id": "Lkw3rW9kZmOm"
   },
   "outputs": [
    {
     "data": {
      "image/png": "[encoded data removed]",
      "text/plain": [
       "<Figure size 640x480 with 1 Axes>"
      ]
     },
     "metadata": {},
     "output_type": "display_data"
    }
   ],
   "source": [
    "import seaborn as sns\n",
    "import matplotlib.pyplot as plt\n",
    "\n",
    "sns.boxplot(x='member_casual', y='duration', data=bicycle_data_cleaned)\n",
    "plt.xlabel('User Type')\n",
    "plt.ylabel('Ride Duration (minutes)')\n",
    "plt.title('Distribution of Ride Durations by User Type')\n",
    "plt.show()\n"
   ]
  },
  {
   "cell_type": "markdown",
   "metadata": {},
   "source": [
    "*Answer to research question:The box plot demonstrates that compared to casual users, member users typically have shorter ride durations. The shorter median ride duration for members suggests that the majority of member rides are shorter in length. Conversely, casual users have access to a wider range of ride lengths, some of which are noticeably longer. This implies that while casual users may use the bike rental system for a variety of uses, such as leisurely rides or longer trips, members may use it for shorter trips like commuting or running errands."
   ]
  },
  {
   "cell_type": "code",
   "execution_count": 320,
   "metadata": {},
   "outputs": [],
   "source": [
    "#Bar plot showing the average ride duration for each user type\n",
    "#Calculating and contrasting the average ride duration for members and casual users is another way to examine the connection between ride duration and user type. This comparison can be effectively displayed using a bar plot."
   ]
  },
  {
   "cell_type": "code",
   "execution_count": 321,
   "metadata": {
    "id": "6fdK_8ZGZm9R"
   },
   "outputs": [
    {
     "data": {
      "image/png": "[encoded data removed]",
      "text/plain": [
       "<Figure size 640x480 with 1 Axes>"
      ]
     },
     "metadata": {},
     "output_type": "display_data"
    }
   ],
   "source": [
    "import numpy as np\n",
    "\n",
    "avg_duration = bicycle_data_cleaned.groupby('member_casual')['duration'].mean()\n",
    "\n",
    "x_labels = ['Member', 'Casual']\n",
    "x = np.arange(len(x_labels))\n",
    "plt.bar(x, avg_duration, align='center')\n",
    "plt.xticks(x, x_labels)\n",
    "plt.xlabel('User Type')\n",
    "plt.ylabel('Average Ride Duration (minutes)')\n",
    "plt.title('Average Ride Duration by User Type')\n",
    "plt.show()"
   ]
  },
  {
   "cell_type": "code",
   "execution_count": 322,
   "metadata": {},
   "outputs": [],
   "source": [
    " #How does the demand for bike rentals vary throughout the day?\n",
    "  #  The hourly demand for bike rentals is depicted by a line plot.\n",
    "#Explanation: We can create a line plot that shows the daily variation in demand for bike rentals to provide an answer\n",
    "  #  to this research question. The number of \n",
    "  #  bike rentals is represented by the y-axis, while the x-axis represents the hours of the day. We can determine demand peaks and comprehend the overall pattern of bike rental usage over a 24-hour period by examining the line plot."
   ]
  },
  {
   "cell_type": "code",
   "execution_count": 323,
   "metadata": {},
   "outputs": [
    {
     "data": {
      "image/png": "[encoded data removed]",
      "text/plain": [
       "<Figure size 640x480 with 1 Axes>"
      ]
     },
     "metadata": {},
     "output_type": "display_data"
    }
   ],
   "source": [
    "\n",
    "bicycle_data_cleaned['hour'] = bicycle_data_cleaned['started_at'].dt.hour\n",
    "\n",
    "hourly_demand = bicycle_data_cleaned.groupby('hour').size()\n",
    "\n",
    "plt.plot(hourly_demand.index, hourly_demand.values)\n",
    "plt.xlabel('Hour of the Day')\n",
    "plt.ylabel('Number of Bike Rentals')\n",
    "plt.title('Hourly Demand for Bike Rentals')\n",
    "plt.xticks(np.arange(0, 24, 2))\n",
    "plt.grid(True)\n",
    "plt.show()\n"
   ]
  },
  {
   "cell_type": "markdown",
   "metadata": {
    "id": "K5RgvMGUZoHn"
   },
   "source": [
    "The demand for bike rentals varies throughout the day, as shown by the line plot. The morning commute hours (around 7-9 AM) and the evening commute hours (around 5-7 PM) are when demand begins to increase, according to our observations. This pattern suggests that commuters who use bikes as an alternate mode of transportation during rush hour favor the bike rental system. Additionally, we can see that demand is relatively lower late at night, which suggests that fewer people are renting bikes then."
   ]
  },
  {
   "cell_type": "code",
   "execution_count": 324,
   "metadata": {},
   "outputs": [],
   "source": [
    "# How does the ride duration vary across different days of the week?\n",
    "   # Comparison of the ride times for each day of the week using a violin plot.\n",
    "#Explanation: We can make a violin plot that compares the ride lengths on various days of the week to provide an answer to this research question. The violin plot, which displays the range, median, and density of ride durations, sheds light on the distribution of ride lengths for each day. It enables us to determine if ride lengths significantly vary depending on the day of the week."
   ]
  },
  {
   "cell_type": "code",
   "execution_count": 327,
   "metadata": {},
   "outputs": [
    {
     "data": {
      "image/png": "[encoded data removed]",
      "text/plain": [
       "<Figure size 640x480 with 1 Axes>"
      ]
     },
     "metadata": {},
     "output_type": "display_data"
    }
   ],
   "source": [
    "\n",
    "bicycle_data_cleaned['weekday'] = bicycle_data_cleaned['started_at'].dt.dayofweek\n",
    "\n",
    "\n",
    "weekday_names = ['Monday', 'Tuesday', 'Wednesday', 'Thursday', 'Friday', 'Saturday', 'Sunday']\n",
    "bicycle_data_cleaned['weekday_name'] = bicycle_data_cleaned['weekday'].map(lambda x: weekday_names[x])\n",
    "\n",
    "\n",
    "sns.violinplot(x='weekday_name', y='duration', data=bicycle_data_cleaned, order=weekday_names)\n",
    "plt.xlabel('Day of the Week')\n",
    "plt.ylabel('Ride Duration (minutes)')\n",
    "plt.title('Ride Duration Variation across Days of the Week')\n",
    "plt.xticks(rotation=45)\n",
    "plt.show()\n"
   ]
  },
  {
   "cell_type": "code",
   "execution_count": 328,
   "metadata": {},
   "outputs": [],
   "source": [
    "#The violin plot illustrates the variance in ride lengths throughout the course of the week.\n",
    "#We can see that, as compared to the weekends (Saturday and Sunday),\n",
    "#ride times are often a little bit longer throughout the week, \n",
    "#especially on Mondays and Fridays. This shows that riding a bike throughout the workweek might entail longer distances or more frequent use for everyday commuting. \n",
    "#The violin plot, on the other hand, shows shorter riding times on the weekends.\n",
    "#suggesting that weekend bike rides are often more relaxed and enjoyable in character."
   ]
  },
  {
   "cell_type": "markdown",
   "metadata": {
    "id": "0ezWXXZVj-TP"
   },
   "source": [
    "### **5.2:** Reflection\n",
    "In 2-4 sentences, if you had more time to complete the project, what actions would you take? For example, which data quality and structural issues would you look into further, and what research questions would you further explore?"
   ]
  },
  {
   "cell_type": "markdown",
   "metadata": {
    "id": "XB3RBDG5kFe1"
   },
   "source": [
    "If I had more time to finish the project, I would thoroughly validate and clean the data in order to better understand the data quality and structural concerns. This would entail examining the data for anomalies, outliers, and discrepancies. Further study questions that I would look into include the effect of weather conditions on demand for bike rentals, the connection between ride duration and user type, and the interaction between bike rental trends and certain urban locations."
   ]
  }
 ],
 "metadata": {
  "colab": {
   "provenance": []
  },
  "kernelspec": {
   "display_name": "Python 3 (ipykernel)",
   "language": "python",
   "name": "python3"
  },
  "language_info": {
   "codemirror_mode": {
    "name": "ipython",
    "version": 3
   },
   "file_extension": ".py",
   "mimetype": "text/x-python",
   "name": "python",
   "nbconvert_exporter": "python",
   "pygments_lexer": "ipython3",
   "version": "3.10.9"
  }
 },
 "nbformat": 4,
 "nbformat_minor": 1
}
